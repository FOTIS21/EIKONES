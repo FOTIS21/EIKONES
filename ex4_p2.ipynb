{
 "cells": [
  {
   "cell_type": "code",
   "id": "initial_id",
   "metadata": {
    "collapsed": true,
    "jupyter": {
     "is_executing": true
    },
    "ExecuteTime": {
     "start_time": "2025-06-09T16:53:42.782409Z"
    }
   },
   "source": [
    "from scipy.cluster.vq import vq\n",
    "import numpy as np\n",
    "import glob\n",
    "from skimage.feature import SIFT\n",
    "import cv2\n",
    "from PIL.Image import Image\n",
    "from matplotlib import pyplot as plt\n",
    "\n",
    "bishop_path = glob.glob(\"bishop_resized/*.jpg\", recursive=True)\n",
    "knight_path = glob.glob(\"knight-resize/*.jpg\", recursive=True)\n",
    "pawn_path = glob.glob(\"pawn_resized/*.jpg\", recursive=True)\n",
    "queen_path = glob.glob(\"Queen-resized/*.jpg\", recursive=True)\n",
    "rook_path = glob.glob(\"Rook-resize/*.jpg\", recursive=True)\n",
    "\n",
    "image_paths = bishop_path + knight_path + pawn_path + queen_path + rook_path\n",
    "\n",
    "images = [cv2.imread(image_path, cv2.IMREAD_GRAYSCALE) for image_path in image_paths]\n",
    "\n",
    "sift = SIFT()\n",
    "descriptors = []\n",
    "\n",
    "images_valid = []\n",
    "descriptors = []\n",
    "\n",
    "for img in images:\n",
    "    try:\n",
    "        sift.detect_and_extract(img)\n",
    "        if sift.descriptors is not None and len(sift.descriptors) > 0:\n",
    "            descriptors.append(sift.descriptors)\n",
    "            images_valid.append(img)  # μόνο τις χρήσιμες\n",
    "    except RuntimeError:\n",
    "        print(\"SIFT failed on one image. Skipping.\")\n",
    "\n",
    "all_descriptors = np.vstack([desc for desc in descriptors if desc is not None]).astype(float)\n",
    "\n",
    "# -------------------- 4. Εκπαίδευση KMeans (λεξικό) --------------------\n",
    "k = 100  # Αριθμός visual words\n",
    "criteria = (cv2.TERM_CRITERIA_EPS + cv2.TERM_CRITERIA_MAX_ITER, 100, 0.2)\n",
    "attempts = 10\n",
    "flags = cv2.KMEANS_RANDOM_CENTERS\n",
    "\n",
    "all_descriptors = all_descriptors.astype(np.float32)\n",
    "\n",
    "compactness, labels, centers = cv2.kmeans(all_descriptors, k, None, criteria, attempts, flags)\n",
    "codebook = centers\n",
    "\n",
    "# -------------------- 5. Αντιστοίχιση descriptors σε visual words --------------------\n",
    "visual_words = []\n",
    "for desc in descriptors:\n",
    "    if desc is not None:\n",
    "        words, _ = vq(desc, codebook)\n",
    "    else:\n",
    "        words = np.array([])\n",
    "    visual_words.append(words)\n",
    "\n",
    "# -------------------- 6. Δημιουργία BoVW vector (ιστόγραμμα) --------------------\n",
    "bovw_vectors = []\n",
    "for words in visual_words:\n",
    "    hist = np.zeros(k)\n",
    "    for w in words:\n",
    "        hist[w] += 1\n",
    "    bovw_vectors.append(hist)\n",
    "\n",
    "bovw_vectors = np.stack(bovw_vectors)\n",
    "\n",
    "# -------------------- 7. (Προαιρετικά) TF-IDF μετασχηματισμός --------------------\n",
    "N = len(bovw_vectors)\n",
    "df = np.sum(bovw_vectors > 0, axis=0)\n",
    "idf = np.log(N / (df + 1e-6))  # μικρή τιμή για αποφυγή log(0)\n",
    "tf_idf = bovw_vectors * idf\n",
    "\n",
    "# -------------------- 8. Προβολή αποτελεσμάτων --------------------\n"
   ],
   "outputs": [
    {
     "name": "stdout",
     "output_type": "stream",
     "text": [
      "SIFT failed on one image. Skipping.\n",
      "SIFT failed on one image. Skipping.\n",
      "SIFT failed on one image. Skipping.\n"
     ]
    }
   ],
   "execution_count": null
  },
  {
   "metadata": {},
   "cell_type": "code",
   "outputs": [],
   "execution_count": null,
   "source": "",
   "id": "f71aceae73df8f96"
  }
 ],
 "metadata": {
  "kernelspec": {
   "display_name": "Python 3",
   "language": "python",
   "name": "python3"
  },
  "language_info": {
   "codemirror_mode": {
    "name": "ipython",
    "version": 2
   },
   "file_extension": ".py",
   "mimetype": "text/x-python",
   "name": "python",
   "nbconvert_exporter": "python",
   "pygments_lexer": "ipython2",
   "version": "2.7.6"
  }
 },
 "nbformat": 4,
 "nbformat_minor": 5
}
