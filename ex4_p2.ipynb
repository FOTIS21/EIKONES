{
 "cells": [
  {
   "cell_type": "code",
   "id": "initial_id",
   "metadata": {
    "collapsed": true,
    "ExecuteTime": {
     "end_time": "2025-06-07T13:04:07.571143Z",
     "start_time": "2025-06-07T13:03:50.724467Z"
    }
   },
   "source": [
    "import glob\n",
    "from skimage.feature import SIFT\n",
    "import cv2\n",
    "from PIL.Image import Image\n",
    "from matplotlib import pyplot as plt\n",
    "\n",
    "bishop_path = glob.glob(\"bishop_resized/*.jpg\", recursive=True)\n",
    "knight_path = glob.glob(\"knight-resize/*.jpg\", recursive=True)\n",
    "pawn_path = glob.glob(\"pawn_resized/*.jpg\", recursive=True)\n",
    "queen_path = glob.glob(\"Queen-resized/*.jpg\", recursive=True)\n",
    "rook_path = glob.glob(\"Rook-resize/*.jpg\", recursive=True)\n",
    "\n",
    "image_paths = bishop_path + knight_path + pawn_path + queen_path + rook_path\n",
    "\n",
    "images = [cv2.imread(image_path, cv2.IMREAD_GRAYSCALE) for image_path in image_paths]\n",
    "\n",
    "sift = SIFT()\n",
    "descriptors = []\n",
    "\n",
    "for img in images:\n",
    "    sift.detect_and_extract(img)\n",
    "    descriptors.append(sift.descriptors)\n",
    "\n"
   ],
   "outputs": [
    {
     "ename": "RuntimeError",
     "evalue": "SIFT found no features. Try passing in an image containing greater intensity contrasts between adjacent pixels.",
     "output_type": "error",
     "traceback": [
      "\u001B[31m---------------------------------------------------------------------------\u001B[39m",
      "\u001B[31mRuntimeError\u001B[39m                              Traceback (most recent call last)",
      "\u001B[36mCell\u001B[39m\u001B[36m \u001B[39m\u001B[32mIn[5]\u001B[39m\u001B[32m, line 21\u001B[39m\n\u001B[32m     18\u001B[39m descriptors = []\n\u001B[32m     20\u001B[39m \u001B[38;5;28;01mfor\u001B[39;00m img \u001B[38;5;129;01min\u001B[39;00m images:\n\u001B[32m---> \u001B[39m\u001B[32m21\u001B[39m     \u001B[43msift\u001B[49m\u001B[43m.\u001B[49m\u001B[43mdetect_and_extract\u001B[49m\u001B[43m(\u001B[49m\u001B[43mimg\u001B[49m\u001B[43m)\u001B[49m\n\u001B[32m     22\u001B[39m     descriptors.append(sift.descriptors)\n",
      "\u001B[36mFile \u001B[39m\u001B[32m~/ERGASIA/.venv/lib/python3.13/site-packages/skimage/feature/sift.py:761\u001B[39m, in \u001B[36mSIFT.detect_and_extract\u001B[39m\u001B[34m(self, image)\u001B[39m\n\u001B[32m    757\u001B[39m gaussian_scalespace = \u001B[38;5;28mself\u001B[39m._create_scalespace(image)\n\u001B[32m    759\u001B[39m dog_scalespace = [np.diff(layer, axis=\u001B[32m2\u001B[39m) \u001B[38;5;28;01mfor\u001B[39;00m layer \u001B[38;5;129;01min\u001B[39;00m gaussian_scalespace]\n\u001B[32m--> \u001B[39m\u001B[32m761\u001B[39m positions, scales, sigmas, octaves = \u001B[38;5;28;43mself\u001B[39;49m\u001B[43m.\u001B[49m\u001B[43m_find_localize_evaluate\u001B[49m\u001B[43m(\u001B[49m\n\u001B[32m    762\u001B[39m \u001B[43m    \u001B[49m\u001B[43mdog_scalespace\u001B[49m\u001B[43m,\u001B[49m\u001B[43m \u001B[49m\u001B[43mimage\u001B[49m\u001B[43m.\u001B[49m\u001B[43mshape\u001B[49m\n\u001B[32m    763\u001B[39m \u001B[43m\u001B[49m\u001B[43m)\u001B[49m\n\u001B[32m    765\u001B[39m gradient_space = \u001B[38;5;28mself\u001B[39m._compute_orientation(\n\u001B[32m    766\u001B[39m     positions, scales, sigmas, octaves, gaussian_scalespace\n\u001B[32m    767\u001B[39m )\n\u001B[32m    769\u001B[39m \u001B[38;5;28mself\u001B[39m._compute_descriptor(gradient_space)\n",
      "\u001B[36mFile \u001B[39m\u001B[32m~/ERGASIA/.venv/lib/python3.13/site-packages/skimage/feature/sift.py:452\u001B[39m, in \u001B[36mSIFT._find_localize_evaluate\u001B[39m\u001B[34m(self, dogspace, img_shape)\u001B[39m\n\u001B[32m    447\u001B[39m octave_indices = np.concatenate(\n\u001B[32m    448\u001B[39m     [np.full(\u001B[38;5;28mlen\u001B[39m(p), i) \u001B[38;5;28;01mfor\u001B[39;00m i, p \u001B[38;5;129;01min\u001B[39;00m \u001B[38;5;28menumerate\u001B[39m(extrema_pos)]\n\u001B[32m    449\u001B[39m )\n\u001B[32m    451\u001B[39m \u001B[38;5;28;01mif\u001B[39;00m \u001B[38;5;28mlen\u001B[39m(octave_indices) == \u001B[32m0\u001B[39m:\n\u001B[32m--> \u001B[39m\u001B[32m452\u001B[39m     \u001B[38;5;28;01mraise\u001B[39;00m \u001B[38;5;167;01mRuntimeError\u001B[39;00m(\n\u001B[32m    453\u001B[39m         \u001B[33m\"\u001B[39m\u001B[33mSIFT found no features. Try passing in an image containing \u001B[39m\u001B[33m\"\u001B[39m\n\u001B[32m    454\u001B[39m         \u001B[33m\"\u001B[39m\u001B[33mgreater intensity contrasts between adjacent pixels.\u001B[39m\u001B[33m\"\u001B[39m\n\u001B[32m    455\u001B[39m     )\n\u001B[32m    457\u001B[39m extrema_pos = np.concatenate(extrema_pos)\n\u001B[32m    458\u001B[39m extrema_scales = np.concatenate(extrema_scales)\n",
      "\u001B[31mRuntimeError\u001B[39m: SIFT found no features. Try passing in an image containing greater intensity contrasts between adjacent pixels."
     ]
    }
   ],
   "execution_count": 5
  },
  {
   "metadata": {},
   "cell_type": "code",
   "outputs": [],
   "execution_count": null,
   "source": "",
   "id": "f71aceae73df8f96"
  }
 ],
 "metadata": {
  "kernelspec": {
   "display_name": "Python 3",
   "language": "python",
   "name": "python3"
  },
  "language_info": {
   "codemirror_mode": {
    "name": "ipython",
    "version": 2
   },
   "file_extension": ".py",
   "mimetype": "text/x-python",
   "name": "python",
   "nbconvert_exporter": "python",
   "pygments_lexer": "ipython2",
   "version": "2.7.6"
  }
 },
 "nbformat": 4,
 "nbformat_minor": 5
}
