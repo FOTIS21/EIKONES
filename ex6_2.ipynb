{
 "cells": [
  {
   "metadata": {
    "jupyter": {
     "is_executing": true
    },
    "ExecuteTime": {
     "start_time": "2025-05-15T19:08:08.899643Z"
    }
   },
   "cell_type": "code",
   "source": [
    "%pip install paddlepaddle\n",
    "%pip install paddleocr\n",
    "!python3 -m pip install paddlepaddle-gpu"
   ],
   "id": "ed193e9aca9ba886",
   "outputs": [
    {
     "name": "stdout",
     "output_type": "stream",
     "text": [
      "Collecting paddlepaddle\r\n",
      "  Using cached paddlepaddle-3.0.0-cp312-cp312-manylinux1_x86_64.whl.metadata (8.9 kB)\r\n",
      "Requirement already satisfied: httpx in /home/fotis/anaconda3/lib/python3.12/site-packages (from paddlepaddle) (0.27.0)\r\n",
      "Requirement already satisfied: numpy>=1.21 in /home/fotis/anaconda3/lib/python3.12/site-packages (from paddlepaddle) (1.26.4)\r\n",
      "Requirement already satisfied: protobuf>=3.20.2 in /home/fotis/anaconda3/lib/python3.12/site-packages (from paddlepaddle) (4.25.3)\r\n",
      "Requirement already satisfied: Pillow in /home/fotis/anaconda3/lib/python3.12/site-packages (from paddlepaddle) (10.4.0)\r\n",
      "Requirement already satisfied: decorator in /home/fotis/anaconda3/lib/python3.12/site-packages (from paddlepaddle) (5.1.1)\r\n",
      "Collecting astor (from paddlepaddle)\r\n",
      "  Using cached astor-0.8.1-py2.py3-none-any.whl.metadata (4.2 kB)\r\n",
      "Collecting opt_einsum==3.3.0 (from paddlepaddle)\r\n",
      "  Using cached opt_einsum-3.3.0-py3-none-any.whl.metadata (6.5 kB)\r\n",
      "Requirement already satisfied: networkx in /home/fotis/anaconda3/lib/python3.12/site-packages (from paddlepaddle) (3.3)\r\n",
      "Requirement already satisfied: typing_extensions in /home/fotis/anaconda3/lib/python3.12/site-packages (from paddlepaddle) (4.13.2)\r\n",
      "Requirement already satisfied: anyio in /home/fotis/anaconda3/lib/python3.12/site-packages (from httpx->paddlepaddle) (4.2.0)\r\n",
      "Requirement already satisfied: certifi in /home/fotis/anaconda3/lib/python3.12/site-packages (from httpx->paddlepaddle) (2025.4.26)\r\n",
      "Requirement already satisfied: httpcore==1.* in /home/fotis/anaconda3/lib/python3.12/site-packages (from httpx->paddlepaddle) (1.0.2)\r\n",
      "Requirement already satisfied: idna in /home/fotis/anaconda3/lib/python3.12/site-packages (from httpx->paddlepaddle) (3.7)\r\n",
      "Requirement already satisfied: sniffio in /home/fotis/anaconda3/lib/python3.12/site-packages (from httpx->paddlepaddle) (1.3.0)\r\n",
      "Requirement already satisfied: h11<0.15,>=0.13 in /home/fotis/anaconda3/lib/python3.12/site-packages (from httpcore==1.*->httpx->paddlepaddle) (0.14.0)\r\n",
      "Using cached paddlepaddle-3.0.0-cp312-cp312-manylinux1_x86_64.whl (192.9 MB)\r\n",
      "Using cached opt_einsum-3.3.0-py3-none-any.whl (65 kB)\r\n",
      "Using cached astor-0.8.1-py2.py3-none-any.whl (27 kB)\r\n",
      "Installing collected packages: opt_einsum, astor, paddlepaddle\r\n",
      "Successfully installed astor-0.8.1 opt_einsum-3.3.0 paddlepaddle-3.0.0\r\n",
      "Note: you may need to restart the kernel to use updated packages.\n",
      "Requirement already satisfied: paddleocr in /home/fotis/anaconda3/lib/python3.12/site-packages (2.10.0)\r\n",
      "Requirement already satisfied: shapely in /home/fotis/anaconda3/lib/python3.12/site-packages (from paddleocr) (2.1.0)\r\n",
      "Requirement already satisfied: scikit-image in /home/fotis/anaconda3/lib/python3.12/site-packages (from paddleocr) (0.24.0)\r\n",
      "Requirement already satisfied: pyclipper in /home/fotis/anaconda3/lib/python3.12/site-packages (from paddleocr) (1.3.0.post6)\r\n",
      "Requirement already satisfied: lmdb in /home/fotis/anaconda3/lib/python3.12/site-packages (from paddleocr) (1.4.1)\r\n",
      "Requirement already satisfied: tqdm in /home/fotis/anaconda3/lib/python3.12/site-packages (from paddleocr) (4.66.5)\r\n",
      "Requirement already satisfied: numpy in /home/fotis/anaconda3/lib/python3.12/site-packages (from paddleocr) (1.26.4)\r\n",
      "Requirement already satisfied: rapidfuzz in /home/fotis/anaconda3/lib/python3.12/site-packages (from paddleocr) (3.13.0)\r\n",
      "Requirement already satisfied: opencv-python in /home/fotis/anaconda3/lib/python3.12/site-packages (from paddleocr) (4.11.0.86)\r\n",
      "Requirement already satisfied: opencv-contrib-python in /home/fotis/anaconda3/lib/python3.12/site-packages (from paddleocr) (4.11.0.86)\r\n",
      "Requirement already satisfied: cython in /home/fotis/anaconda3/lib/python3.12/site-packages (from paddleocr) (3.1.0)\r\n",
      "Requirement already satisfied: Pillow in /home/fotis/anaconda3/lib/python3.12/site-packages (from paddleocr) (10.4.0)\r\n",
      "Requirement already satisfied: pyyaml in /home/fotis/anaconda3/lib/python3.12/site-packages (from paddleocr) (6.0.1)\r\n",
      "Requirement already satisfied: python-docx in /home/fotis/anaconda3/lib/python3.12/site-packages (from paddleocr) (1.1.2)\r\n",
      "Requirement already satisfied: beautifulsoup4 in /home/fotis/anaconda3/lib/python3.12/site-packages (from paddleocr) (4.12.3)\r\n",
      "Requirement already satisfied: fonttools>=4.24.0 in /home/fotis/anaconda3/lib/python3.12/site-packages (from paddleocr) (4.51.0)\r\n",
      "Requirement already satisfied: fire>=0.3.0 in /home/fotis/anaconda3/lib/python3.12/site-packages (from paddleocr) (0.7.0)\r\n",
      "Requirement already satisfied: requests in /home/fotis/anaconda3/lib/python3.12/site-packages (from paddleocr) (2.32.3)\r\n",
      "Requirement already satisfied: albumentations in /home/fotis/anaconda3/lib/python3.12/site-packages (from paddleocr) (2.0.6)\r\n",
      "Requirement already satisfied: albucore in /home/fotis/anaconda3/lib/python3.12/site-packages (from paddleocr) (0.0.24)\r\n",
      "Requirement already satisfied: termcolor in /home/fotis/anaconda3/lib/python3.12/site-packages (from fire>=0.3.0->paddleocr) (3.1.0)\r\n",
      "Requirement already satisfied: stringzilla>=3.10.4 in /home/fotis/anaconda3/lib/python3.12/site-packages (from albucore->paddleocr) (3.12.5)\r\n",
      "Requirement already satisfied: simsimd>=5.9.2 in /home/fotis/anaconda3/lib/python3.12/site-packages (from albucore->paddleocr) (6.2.1)\r\n",
      "Requirement already satisfied: opencv-python-headless>=4.9.0.80 in /home/fotis/anaconda3/lib/python3.12/site-packages (from albucore->paddleocr) (4.11.0.86)\r\n",
      "Requirement already satisfied: scipy>=1.10.0 in /home/fotis/anaconda3/lib/python3.12/site-packages (from albumentations->paddleocr) (1.13.1)\r\n",
      "Requirement already satisfied: pydantic>=2.9.2 in /home/fotis/anaconda3/lib/python3.12/site-packages (from albumentations->paddleocr) (2.11.4)\r\n",
      "Requirement already satisfied: soupsieve>1.2 in /home/fotis/anaconda3/lib/python3.12/site-packages (from beautifulsoup4->paddleocr) (2.5)\r\n",
      "Requirement already satisfied: lxml>=3.1.0 in /home/fotis/anaconda3/lib/python3.12/site-packages (from python-docx->paddleocr) (5.2.1)\r\n",
      "Requirement already satisfied: typing-extensions>=4.9.0 in /home/fotis/anaconda3/lib/python3.12/site-packages (from python-docx->paddleocr) (4.13.2)\r\n",
      "Requirement already satisfied: charset-normalizer<4,>=2 in /home/fotis/anaconda3/lib/python3.12/site-packages (from requests->paddleocr) (3.3.2)\r\n",
      "Requirement already satisfied: idna<4,>=2.5 in /home/fotis/anaconda3/lib/python3.12/site-packages (from requests->paddleocr) (3.7)\r\n",
      "Requirement already satisfied: urllib3<3,>=1.21.1 in /home/fotis/anaconda3/lib/python3.12/site-packages (from requests->paddleocr) (2.2.3)\r\n",
      "Requirement already satisfied: certifi>=2017.4.17 in /home/fotis/anaconda3/lib/python3.12/site-packages (from requests->paddleocr) (2025.4.26)\r\n",
      "Requirement already satisfied: networkx>=2.8 in /home/fotis/anaconda3/lib/python3.12/site-packages (from scikit-image->paddleocr) (3.3)\r\n",
      "Requirement already satisfied: imageio>=2.33 in /home/fotis/anaconda3/lib/python3.12/site-packages (from scikit-image->paddleocr) (2.33.1)\r\n",
      "Requirement already satisfied: tifffile>=2022.8.12 in /home/fotis/anaconda3/lib/python3.12/site-packages (from scikit-image->paddleocr) (2023.4.12)\r\n",
      "Requirement already satisfied: packaging>=21 in /home/fotis/anaconda3/lib/python3.12/site-packages (from scikit-image->paddleocr) (24.1)\r\n",
      "Requirement already satisfied: lazy-loader>=0.4 in /home/fotis/anaconda3/lib/python3.12/site-packages (from scikit-image->paddleocr) (0.4)\r\n",
      "Requirement already satisfied: annotated-types>=0.6.0 in /home/fotis/anaconda3/lib/python3.12/site-packages (from pydantic>=2.9.2->albumentations->paddleocr) (0.6.0)\r\n",
      "Requirement already satisfied: pydantic-core==2.33.2 in /home/fotis/anaconda3/lib/python3.12/site-packages (from pydantic>=2.9.2->albumentations->paddleocr) (2.33.2)\r\n",
      "Requirement already satisfied: typing-inspection>=0.4.0 in /home/fotis/anaconda3/lib/python3.12/site-packages (from pydantic>=2.9.2->albumentations->paddleocr) (0.4.0)\r\n",
      "Note: you may need to restart the kernel to use updated packages.\n",
      "Collecting paddlepaddle-gpu\r\n",
      "  Using cached paddlepaddle_gpu-2.6.2-cp312-cp312-manylinux1_x86_64.whl.metadata (8.6 kB)\r\n",
      "Requirement already satisfied: httpx in /home/fotis/anaconda3/lib/python3.12/site-packages (from paddlepaddle-gpu) (0.27.0)\r\n",
      "Requirement already satisfied: numpy>=1.13 in /home/fotis/anaconda3/lib/python3.12/site-packages (from paddlepaddle-gpu) (1.26.4)\r\n",
      "Requirement already satisfied: Pillow in /home/fotis/anaconda3/lib/python3.12/site-packages (from paddlepaddle-gpu) (10.4.0)\r\n",
      "Requirement already satisfied: decorator in /home/fotis/anaconda3/lib/python3.12/site-packages (from paddlepaddle-gpu) (5.1.1)\r\n",
      "Requirement already satisfied: astor in /home/fotis/anaconda3/lib/python3.12/site-packages (from paddlepaddle-gpu) (0.8.1)\r\n",
      "Requirement already satisfied: opt-einsum==3.3.0 in /home/fotis/anaconda3/lib/python3.12/site-packages (from paddlepaddle-gpu) (3.3.0)\r\n",
      "Requirement already satisfied: protobuf>=3.20.2 in /home/fotis/anaconda3/lib/python3.12/site-packages (from paddlepaddle-gpu) (4.25.3)\r\n",
      "Requirement already satisfied: anyio in /home/fotis/anaconda3/lib/python3.12/site-packages (from httpx->paddlepaddle-gpu) (4.2.0)\r\n",
      "Requirement already satisfied: certifi in /home/fotis/anaconda3/lib/python3.12/site-packages (from httpx->paddlepaddle-gpu) (2025.4.26)\r\n",
      "Requirement already satisfied: httpcore==1.* in /home/fotis/anaconda3/lib/python3.12/site-packages (from httpx->paddlepaddle-gpu) (1.0.2)\r\n",
      "Requirement already satisfied: idna in /home/fotis/anaconda3/lib/python3.12/site-packages (from httpx->paddlepaddle-gpu) (3.7)\r\n",
      "Requirement already satisfied: sniffio in /home/fotis/anaconda3/lib/python3.12/site-packages (from httpx->paddlepaddle-gpu) (1.3.0)\r\n",
      "Requirement already satisfied: h11<0.15,>=0.13 in /home/fotis/anaconda3/lib/python3.12/site-packages (from httpcore==1.*->httpx->paddlepaddle-gpu) (0.14.0)\r\n",
      "Using cached paddlepaddle_gpu-2.6.2-cp312-cp312-manylinux1_x86_64.whl (758.9 MB)\r\n"
     ]
    }
   ],
   "execution_count": null
  },
  {
   "metadata": {
    "ExecuteTime": {
     "end_time": "2025-05-15T19:08:02.687326Z",
     "start_time": "2025-05-15T19:08:02.453662Z"
    }
   },
   "cell_type": "code",
   "source": [
    "from paddleocr import PaddleOCR, draw_ocr\n",
    "import cv2\n",
    "from matplotlib import pyplot as plt\n",
    "\n",
    "# Initialize the OCR model\n",
    "ocr = PaddleOCR(use_angle_cls=True, lang=\"en\")\n",
    "\n",
    "# Load the image\n",
    "image_path = 'book-cover.jpeg'\n",
    "img = cv2.imread(image_path)\n",
    "img = cv2.cvtColor(img, cv2.COLOR_BGR2GRAY)  # Convert to RGB for better visualization\n",
    "\n",
    "# Display the image\n",
    "plt.figure()\n",
    "plt.imshow(img, cmap='gray')\n",
    "plt.axis('off')  # Disable axes for clean view\n",
    "plt.show()\n",
    "\n",
    "# Perform OCR on the image\n",
    "result = ocr.ocr(img, cls=True)\n",
    "\n",
    "# Iterate through the result and print all words\n",
    "for line in result:\n",
    "    for word_info in line:\n",
    "        word = word_info[1][0]  # The text is in the second position of the list\n",
    "        print(word)\n",
    "\n",
    "#Optionally, draw the result on the image\n",
    "image_with_boxes = draw_ocr(img_rgb, result, font_path='/usr/share/fonts/truetype/liberation/LiberationSerif-Regular.ttf')\n",
    "\n",
    "# Display the image with boxes and recognized text\n",
    "plt.figure(figsize=(10, 10))\n",
    "plt.imshow(image_with_boxes)\n",
    "plt.axis('off')\n",
    "plt.show()\n"
   ],
   "id": "adbfe992b9d894b",
   "outputs": [
    {
     "ename": "ModuleNotFoundError",
     "evalue": "No module named 'paddle'",
     "output_type": "error",
     "traceback": [
      "\u001B[0;31m---------------------------------------------------------------------------\u001B[0m",
      "\u001B[0;31mModuleNotFoundError\u001B[0m                       Traceback (most recent call last)",
      "Cell \u001B[0;32mIn[2], line 1\u001B[0m\n\u001B[0;32m----> 1\u001B[0m \u001B[38;5;28;01mfrom\u001B[39;00m \u001B[38;5;21;01mpaddleocr\u001B[39;00m \u001B[38;5;28;01mimport\u001B[39;00m PaddleOCR, draw_ocr\n\u001B[1;32m      2\u001B[0m \u001B[38;5;28;01mimport\u001B[39;00m \u001B[38;5;21;01mcv2\u001B[39;00m\n\u001B[1;32m      3\u001B[0m \u001B[38;5;28;01mfrom\u001B[39;00m \u001B[38;5;21;01mmatplotlib\u001B[39;00m \u001B[38;5;28;01mimport\u001B[39;00m pyplot \u001B[38;5;28;01mas\u001B[39;00m plt\n",
      "File \u001B[0;32m~/anaconda3/lib/python3.12/site-packages/paddleocr/__init__.py:14\u001B[0m\n\u001B[1;32m      1\u001B[0m \u001B[38;5;66;03m# Copyright (c) 2020 PaddlePaddle Authors. All Rights Reserved.\u001B[39;00m\n\u001B[1;32m      2\u001B[0m \u001B[38;5;66;03m#\u001B[39;00m\n\u001B[1;32m      3\u001B[0m \u001B[38;5;66;03m# Licensed under the Apache License, Version 2.0 (the \"License\");\u001B[39;00m\n\u001B[0;32m   (...)\u001B[0m\n\u001B[1;32m     12\u001B[0m \u001B[38;5;66;03m# See the License for the specific language governing permissions and\u001B[39;00m\n\u001B[1;32m     13\u001B[0m \u001B[38;5;66;03m# limitations under the License.\u001B[39;00m\n\u001B[0;32m---> 14\u001B[0m \u001B[38;5;28;01mfrom\u001B[39;00m \u001B[38;5;21;01m.\u001B[39;00m\u001B[38;5;21;01mpaddleocr\u001B[39;00m \u001B[38;5;28;01mimport\u001B[39;00m (\n\u001B[1;32m     15\u001B[0m     PaddleOCR,\n\u001B[1;32m     16\u001B[0m     PPStructure,\n\u001B[1;32m     17\u001B[0m     draw_ocr,\n\u001B[1;32m     18\u001B[0m     draw_structure_result,\n\u001B[1;32m     19\u001B[0m     save_structure_res,\n\u001B[1;32m     20\u001B[0m     download_with_progressbar,\n\u001B[1;32m     21\u001B[0m     sorted_layout_boxes,\n\u001B[1;32m     22\u001B[0m     convert_info_docx,\n\u001B[1;32m     23\u001B[0m     to_excel,\n\u001B[1;32m     24\u001B[0m )\n\u001B[1;32m     25\u001B[0m \u001B[38;5;28;01mimport\u001B[39;00m \u001B[38;5;21;01mimportlib\u001B[39;00m\u001B[38;5;21;01m.\u001B[39;00m\u001B[38;5;21;01mmetadata\u001B[39;00m \u001B[38;5;28;01mas\u001B[39;00m \u001B[38;5;21;01mimportlib_metadata\u001B[39;00m\n\u001B[1;32m     27\u001B[0m \u001B[38;5;28;01mtry\u001B[39;00m:\n",
      "File \u001B[0;32m~/anaconda3/lib/python3.12/site-packages/paddleocr/paddleocr.py:21\u001B[0m\n\u001B[1;32m     17\u001B[0m \u001B[38;5;28;01mimport\u001B[39;00m \u001B[38;5;21;01mimportlib\u001B[39;00m\n\u001B[1;32m     19\u001B[0m \u001B[38;5;21m__dir__\u001B[39m \u001B[38;5;241m=\u001B[39m os\u001B[38;5;241m.\u001B[39mpath\u001B[38;5;241m.\u001B[39mdirname(\u001B[38;5;18m__file__\u001B[39m)\n\u001B[0;32m---> 21\u001B[0m \u001B[38;5;28;01mfrom\u001B[39;00m \u001B[38;5;21;01mpaddle\u001B[39;00m\u001B[38;5;21;01m.\u001B[39;00m\u001B[38;5;21;01mutils\u001B[39;00m \u001B[38;5;28;01mimport\u001B[39;00m try_import\n\u001B[1;32m     23\u001B[0m sys\u001B[38;5;241m.\u001B[39mpath\u001B[38;5;241m.\u001B[39mappend(os\u001B[38;5;241m.\u001B[39mpath\u001B[38;5;241m.\u001B[39mjoin(\u001B[38;5;21m__dir__\u001B[39m, \u001B[38;5;124m\"\u001B[39m\u001B[38;5;124m\"\u001B[39m))\n\u001B[1;32m     25\u001B[0m \u001B[38;5;28;01mimport\u001B[39;00m \u001B[38;5;21;01mcv2\u001B[39;00m\n",
      "\u001B[0;31mModuleNotFoundError\u001B[0m: No module named 'paddle'"
     ]
    }
   ],
   "execution_count": 2
  },
  {
   "metadata": {},
   "cell_type": "code",
   "outputs": [],
   "execution_count": null,
   "source": "",
   "id": "12ce0b1f3ae91039"
  }
 ],
 "metadata": {
  "kernelspec": {
   "display_name": "Python [conda env:base] *",
   "language": "python",
   "name": "conda-base-py"
  },
  "language_info": {
   "codemirror_mode": {
    "name": "ipython",
    "version": 2
   },
   "file_extension": ".py",
   "mimetype": "text/x-python",
   "name": "python",
   "nbconvert_exporter": "python",
   "pygments_lexer": "ipython2",
   "version": "2.7.6"
  }
 },
 "nbformat": 4,
 "nbformat_minor": 5
}
